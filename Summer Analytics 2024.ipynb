{
 "cells": [
  {
   "cell_type": "code",
   "execution_count": 1,
   "metadata": {},
   "outputs": [
    {
     "name": "stdout",
     "output_type": "stream",
     "text": [
      "Defaulting to user installation because normal site-packages is not writeable\n",
      "Requirement already satisfied: openai in c:\\users\\user\\appdata\\roaming\\python\\python312\\site-packages (1.35.13)\n",
      "Requirement already satisfied: anyio<5,>=3.5.0 in c:\\users\\user\\appdata\\roaming\\python\\python312\\site-packages (from openai) (4.4.0)\n",
      "Requirement already satisfied: distro<2,>=1.7.0 in c:\\users\\user\\appdata\\roaming\\python\\python312\\site-packages (from openai) (1.9.0)\n",
      "Requirement already satisfied: httpx<1,>=0.23.0 in c:\\users\\user\\appdata\\roaming\\python\\python312\\site-packages (from openai) (0.27.0)\n",
      "Requirement already satisfied: pydantic<3,>=1.9.0 in c:\\users\\user\\appdata\\roaming\\python\\python312\\site-packages (from openai) (2.8.2)\n",
      "Requirement already satisfied: sniffio in c:\\users\\user\\appdata\\roaming\\python\\python312\\site-packages (from openai) (1.3.1)\n",
      "Requirement already satisfied: tqdm>4 in c:\\users\\user\\appdata\\roaming\\python\\python312\\site-packages (from openai) (4.66.4)\n",
      "Requirement already satisfied: typing-extensions<5,>=4.7 in c:\\users\\user\\appdata\\roaming\\python\\python312\\site-packages (from openai) (4.12.2)\n",
      "Requirement already satisfied: idna>=2.8 in c:\\users\\user\\appdata\\roaming\\python\\python312\\site-packages (from anyio<5,>=3.5.0->openai) (3.7)\n",
      "Requirement already satisfied: certifi in c:\\users\\user\\appdata\\roaming\\python\\python312\\site-packages (from httpx<1,>=0.23.0->openai) (2023.11.17)\n",
      "Requirement already satisfied: httpcore==1.* in c:\\users\\user\\appdata\\roaming\\python\\python312\\site-packages (from httpx<1,>=0.23.0->openai) (1.0.5)\n",
      "Requirement already satisfied: h11<0.15,>=0.13 in c:\\users\\user\\appdata\\roaming\\python\\python312\\site-packages (from httpcore==1.*->httpx<1,>=0.23.0->openai) (0.14.0)\n",
      "Requirement already satisfied: annotated-types>=0.4.0 in c:\\users\\user\\appdata\\roaming\\python\\python312\\site-packages (from pydantic<3,>=1.9.0->openai) (0.7.0)\n",
      "Requirement already satisfied: pydantic-core==2.20.1 in c:\\users\\user\\appdata\\roaming\\python\\python312\\site-packages (from pydantic<3,>=1.9.0->openai) (2.20.1)\n",
      "Requirement already satisfied: colorama in c:\\users\\user\\appdata\\roaming\\python\\python312\\site-packages (from tqdm>4->openai) (0.4.6)\n",
      "Note: you may need to restart the kernel to use updated packages.\n"
     ]
    }
   ],
   "source": [
    "pip install openai"
   ]
  },
  {
   "cell_type": "code",
   "execution_count": 2,
   "metadata": {},
   "outputs": [],
   "source": [
    "import os\n",
    "import openai\n",
    "\n",
    "# Set up OpenAI API key\n",
    "os.environ[\"OPENAI_API_KEY\"] = \"your-api-key\"\n",
    "\n",
    "# Define the conversation buffer memory\n",
    "class ConversationBufferMemory:\n",
    "    def __init__(self):\n",
    "        self.memory = []\n",
    "\n",
    "    def add_message(self, message):\n",
    "        self.memory.append(message)\n",
    "\n",
    "    def get_memory(self):\n",
    "        return self.memory\n",
    "\n",
    "# Define the info extraction module\n",
    "class InfoExtraction:\n",
    "    def __init__(self):\n",
    "        pass\n",
    "\n",
    "    def extract_order_id(self, conversation):\n",
    "        # Implement logic to extract order ID from conversation\n",
    "        pass\n",
    "\n",
    "    def extract_product_preferences(self, conversation):\n",
    "        # Implement logic to extract product preferences from conversation\n",
    "        pass\n",
    "\n",
    "# Define the main bot class\n",
    "class CustomerCareBot:\n",
    "    def __init__(self):\n",
    "        self.conversation_buffer = ConversationBufferMemory()\n",
    "        self.info_extraction = InfoExtraction()\n",
    "\n",
    "    def respond(self, message):\n",
    "        # Use GPT-3.5 to generate response\n",
    "        response = openai.Completion.create(\n",
    "            engine=\"text-davinci-003\",\n",
    "            prompt=message,\n",
    "            max_tokens=1024,\n",
    "            temperature=0.5\n",
    "        )\n",
    "\n",
    "        # Add response to conversation buffer\n",
    "        self.conversation_buffer.add_message(response)\n",
    "\n",
    "        # Extract order ID and product preferences if necessary\n",
    "        if self.info_extraction.extract_order_id(self.conversation_buffer.get_memory()):\n",
    "            # Implement logic to handle order ID extraction\n",
    "            pass\n",
    "        if self.info_extraction.extract_product_preferences(self.conversation_buffer.get_memory()):\n",
    "            # Implement logic to handle product preferences extraction\n",
    "            pass\n",
    "\n",
    "        return response\n",
    "\n",
    "# Create an instance of the bot\n",
    "bot = CustomerCareBot()\n",
    "\n",
    "# Run the bot\n",
    "while True:\n",
    "    user_input = input(\"Please enter your message: \")\n",
    "    response = bot.respond(user_input)\n",
    "    print(\"Bot:\", response)"
   ]
  }
 ],
 "metadata": {
  "kernelspec": {
   "display_name": "Python 3",
   "language": "python",
   "name": "python3"
  },
  "language_info": {
   "codemirror_mode": {
    "name": "ipython",
    "version": 3
   },
   "file_extension": ".py",
   "mimetype": "text/x-python",
   "name": "python",
   "nbconvert_exporter": "python",
   "pygments_lexer": "ipython3",
   "version": "3.12.1"
  }
 },
 "nbformat": 4,
 "nbformat_minor": 2
}
